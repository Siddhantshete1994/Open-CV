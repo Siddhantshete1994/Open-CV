{
 "cells": [
  {
   "cell_type": "code",
   "execution_count": null,
   "metadata": {},
   "outputs": [],
   "source": [
    "import numpy as np\n",
    "import cv2\n",
    "from matplotlib import pyplot as plt\n",
    "\n",
    "img = cv2.imread('cv.png',0)\n",
    "\n",
    "# Initiate FAST object with default values\n",
    "fast = cv2.FastFeatureDetector()\n",
    "\n",
    "# find and draw the keypoints\n",
    "kp = fast.detect(img,None)\n",
    "img2 = cv2.drawKeypoints(img, kp, color=(255,0,0))\n",
    "\n",
    "# Print all default params\n",
    "print(\"Threshold: \", fast.getInt('threshold'))\n",
    "print(\"nonmaxSuppression: \", fast.getBool('nonmaxSuppression'))\n",
    "print(\"neighborhood: \", fast.getInt('type'))\n",
    "print(\"Total Keypoints with nonmaxSuppression: \", len(kp))\n",
    "\n",
    "cv2.imwrite('fast_true.png',img2)\n",
    "\n",
    "# Disable nonmaxSuppression\n",
    "fast.setBool('nonmaxSuppression',0)\n",
    "kp = fast.detect(img,None)\n",
    "\n",
    "print(\"Total Keypoints without nonmaxSuppression:\", len(kp))\n",
    "\n",
    "img3 = cv2.drawKeypoints(img, kp, color=(255,0,0))\n",
    "\n",
    "cv2.imwrite('fast_false.png',img3)\n"
   ]
  },
  {
   "cell_type": "code",
   "execution_count": null,
   "metadata": {},
   "outputs": [],
   "source": []
  },
  {
   "cell_type": "code",
   "execution_count": null,
   "metadata": {},
   "outputs": [],
   "source": []
  }
 ],
 "metadata": {
  "kernelspec": {
   "display_name": "Python 3",
   "language": "python",
   "name": "python3"
  },
  "language_info": {
   "codemirror_mode": {
    "name": "ipython",
    "version": 3
   },
   "file_extension": ".py",
   "mimetype": "text/x-python",
   "name": "python",
   "nbconvert_exporter": "python",
   "pygments_lexer": "ipython3",
   "version": "3.7.6"
  }
 },
 "nbformat": 4,
 "nbformat_minor": 4
}
